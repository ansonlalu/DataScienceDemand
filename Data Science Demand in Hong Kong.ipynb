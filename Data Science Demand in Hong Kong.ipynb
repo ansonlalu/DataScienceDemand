{
 "cells": [
  {
   "cell_type": "markdown",
   "metadata": {},
   "source": [
    "![glassdoor](https://github.com/jasonchanhku/DataScienceDemand/blob/master/images/glassdoor.png?raw=true)\n",
    "\n",
    "# Data Science Demand in Hong Kong\n",
    "### by Jason Chan Jin An\n",
    "\n",
    "# Introduction\n",
    "\n",
    "This project aims to gauge the data science job demands in Hong Kong\n",
    "in the past 30 days rolling based on job posts from Glassdoor. Glassdoor was \n",
    "the preferred data source because its wide array of available information:\n",
    "\n",
    "* Job Title\n",
    "* Company Name\n",
    "* Link\n",
    "* Company Rating\n",
    "* Job Description\n",
    "* Company Size\n",
    "* Year Founded\n",
    "* Company Type\n",
    "* Industry\n",
    "* Company Revenue\n",
    "* CEO (sentiment)\n",
    "* Recommend Percentage\n",
    "* Approval Percentage\n",
    "\n",
    "# Questions to be Answered\n",
    "\n",
    "Exploratory Data Analysis (EDA) is performed in this notebook from a statistical and data standpoint and seeks to answer the following questions: \n",
    "* Who are hiring data scientists in Hong Kong ?\n",
    "    * Big / small companies ?\n",
    "    * What kind of industries ?\n",
    "    * Good company feedback and approval ?\n",
    "* Do company ratings differ from company types / industry / etc ?\n",
    "* Given my preference of company type, which jobs suits me most ?\n",
    "\n",
    "## Dataset\n",
    "\n",
    "The dataset was obtained by building a python web scraper using `selenium` and the script is saved as `scraper.py` in the repository.\n",
    "\n",
    "***"
   ]
  },
  {
   "cell_type": "markdown",
   "metadata": {},
   "source": [
    "# Data Prep and Libraries"
   ]
  },
  {
   "cell_type": "code",
   "execution_count": 1,
   "metadata": {
    "collapsed": true
   },
   "outputs": [],
   "source": [
    "# Libraries used\n",
    "import pandas as pd\n",
    "import numpy as np"
   ]
  },
  {
   "cell_type": "code",
   "execution_count": 3,
   "metadata": {
    "collapsed": false,
    "scrolled": false
   },
   "outputs": [
    {
     "data": {
      "text/html": [
       "<div>\n",
       "<style scoped>\n",
       "    .dataframe tbody tr th:only-of-type {\n",
       "        vertical-align: middle;\n",
       "    }\n",
       "\n",
       "    .dataframe tbody tr th {\n",
       "        vertical-align: top;\n",
       "    }\n",
       "\n",
       "    .dataframe thead th {\n",
       "        text-align: right;\n",
       "    }\n",
       "</style>\n",
       "<table border=\"1\" class=\"dataframe\">\n",
       "  <thead>\n",
       "    <tr style=\"text-align: right;\">\n",
       "      <th></th>\n",
       "      <th>Title</th>\n",
       "      <th>Company</th>\n",
       "      <th>Link</th>\n",
       "      <th>Rating</th>\n",
       "      <th>Job_Description</th>\n",
       "      <th>Size</th>\n",
       "      <th>Founded</th>\n",
       "      <th>Company_Type</th>\n",
       "      <th>Industry</th>\n",
       "      <th>Revenue</th>\n",
       "      <th>CEO</th>\n",
       "      <th>Recommend</th>\n",
       "      <th>Approve</th>\n",
       "    </tr>\n",
       "  </thead>\n",
       "  <tbody>\n",
       "    <tr>\n",
       "      <th>0</th>\n",
       "      <td>CIB QR - Risk Quantitative Research, Equity De...</td>\n",
       "      <td>J.P. Morgan</td>\n",
       "      <td>https://www.glassdoor.com/partner/jobListing.h...</td>\n",
       "      <td>3.7</td>\n",
       "      <td>J.P. Morgans Corporate &amp; Investment Bank is a ...</td>\n",
       "      <td>10000+ employees</td>\n",
       "      <td>1799</td>\n",
       "      <td>Public (JPM)</td>\n",
       "      <td>Finance</td>\n",
       "      <td>$10+ billion (USD) per year</td>\n",
       "      <td>Jamie Dimon</td>\n",
       "      <td>76.0</td>\n",
       "      <td>93.0</td>\n",
       "    </tr>\n",
       "    <tr>\n",
       "      <th>1</th>\n",
       "      <td>Quantitative Research - M/F VIE</td>\n",
       "      <td>Societe Generale</td>\n",
       "      <td>https://www.glassdoor.com/partner/jobListing.h...</td>\n",
       "      <td>3.4</td>\n",
       "      <td>Environment\\n\\nYour environment\\nSG CIB is the...</td>\n",
       "      <td>10000+ employees</td>\n",
       "      <td>1864</td>\n",
       "      <td>Public (GLE)</td>\n",
       "      <td>Finance</td>\n",
       "      <td>$10+ billion (USD) per year</td>\n",
       "      <td>Frederic Oudea</td>\n",
       "      <td>68.0</td>\n",
       "      <td>83.0</td>\n",
       "    </tr>\n",
       "    <tr>\n",
       "      <th>2</th>\n",
       "      <td>Data Analyst - Modeling</td>\n",
       "      <td>Transunion</td>\n",
       "      <td>https://www.glassdoor.com/partner/jobListing.h...</td>\n",
       "      <td>3.9</td>\n",
       "      <td>Dynamics of the Role\\n\\nThe incumbent\\nis expe...</td>\n",
       "      <td>1001 to 5000 employees</td>\n",
       "      <td>1968</td>\n",
       "      <td>Public (TRU)</td>\n",
       "      <td>Finance</td>\n",
       "      <td>$1 to $2 billion (USD) per year</td>\n",
       "      <td>Jim Peck</td>\n",
       "      <td>75.0</td>\n",
       "      <td>93.0</td>\n",
       "    </tr>\n",
       "    <tr>\n",
       "      <th>3</th>\n",
       "      <td>Data Scientist</td>\n",
       "      <td>Lenovo</td>\n",
       "      <td>https://www.glassdoor.com/partner/jobListing.h...</td>\n",
       "      <td>3.3</td>\n",
       "      <td>Position Description\\nDesign data mining and m...</td>\n",
       "      <td>10000+ employees</td>\n",
       "      <td>1984</td>\n",
       "      <td>Public (LNVGY)</td>\n",
       "      <td>Information Technology</td>\n",
       "      <td>$10+ billion (USD) per year</td>\n",
       "      <td>Yang Yuanqing</td>\n",
       "      <td>57.0</td>\n",
       "      <td>64.0</td>\n",
       "    </tr>\n",
       "    <tr>\n",
       "      <th>4</th>\n",
       "      <td>Quantitative Researcher</td>\n",
       "      <td>Societe Generale</td>\n",
       "      <td>https://www.glassdoor.com/partner/jobListing.h...</td>\n",
       "      <td>3.4</td>\n",
       "      <td>Environment\\n\\nSG CIB is the Corporate and Inv...</td>\n",
       "      <td>10000+ employees</td>\n",
       "      <td>1864</td>\n",
       "      <td>Public (GLE)</td>\n",
       "      <td>Finance</td>\n",
       "      <td>$10+ billion (USD) per year</td>\n",
       "      <td>Frederic Oudea</td>\n",
       "      <td>68.0</td>\n",
       "      <td>83.0</td>\n",
       "    </tr>\n",
       "  </tbody>\n",
       "</table>\n",
       "</div>"
      ],
      "text/plain": [
       "                                               Title           Company  \\\n",
       "0  CIB QR - Risk Quantitative Research, Equity De...       J.P. Morgan   \n",
       "1                    Quantitative Research - M/F VIE  Societe Generale   \n",
       "2                            Data Analyst - Modeling        Transunion   \n",
       "3                                     Data Scientist            Lenovo   \n",
       "4                            Quantitative Researcher  Societe Generale   \n",
       "\n",
       "                                                Link  Rating  \\\n",
       "0  https://www.glassdoor.com/partner/jobListing.h...     3.7   \n",
       "1  https://www.glassdoor.com/partner/jobListing.h...     3.4   \n",
       "2  https://www.glassdoor.com/partner/jobListing.h...     3.9   \n",
       "3  https://www.glassdoor.com/partner/jobListing.h...     3.3   \n",
       "4  https://www.glassdoor.com/partner/jobListing.h...     3.4   \n",
       "\n",
       "                                     Job_Description                    Size  \\\n",
       "0  J.P. Morgans Corporate & Investment Bank is a ...        10000+ employees   \n",
       "1  Environment\\n\\nYour environment\\nSG CIB is the...        10000+ employees   \n",
       "2  Dynamics of the Role\\n\\nThe incumbent\\nis expe...  1001 to 5000 employees   \n",
       "3  Position Description\\nDesign data mining and m...        10000+ employees   \n",
       "4  Environment\\n\\nSG CIB is the Corporate and Inv...        10000+ employees   \n",
       "\n",
       "  Founded    Company_Type                Industry  \\\n",
       "0    1799    Public (JPM)                 Finance   \n",
       "1    1864    Public (GLE)                 Finance   \n",
       "2    1968    Public (TRU)                 Finance   \n",
       "3    1984  Public (LNVGY)  Information Technology   \n",
       "4    1864    Public (GLE)                 Finance   \n",
       "\n",
       "                           Revenue             CEO  Recommend  Approve  \n",
       "0      $10+ billion (USD) per year     Jamie Dimon       76.0     93.0  \n",
       "1      $10+ billion (USD) per year  Frederic Oudea       68.0     83.0  \n",
       "2  $1 to $2 billion (USD) per year        Jim Peck       75.0     93.0  \n",
       "3      $10+ billion (USD) per year   Yang Yuanqing       57.0     64.0  \n",
       "4      $10+ billion (USD) per year  Frederic Oudea       68.0     83.0  "
      ]
     },
     "execution_count": 3,
     "metadata": {},
     "output_type": "execute_result"
    }
   ],
   "source": [
    "# Data prep\n",
    "df = pd.read_csv('https://raw.githubusercontent.com/jasonchanhku/DataScienceDemand/master/data/glassdoor_data.csv')\n",
    "df.head(5)"
   ]
  },
  {
   "cell_type": "code",
   "execution_count": 7,
   "metadata": {
    "collapsed": false
   },
   "outputs": [
    {
     "name": "stdout",
     "output_type": "stream",
     "text": [
      "<class 'pandas.core.frame.DataFrame'>\n",
      "RangeIndex: 211 entries, 0 to 210\n",
      "Data columns (total 13 columns):\n",
      "Title              211 non-null object\n",
      "Company            211 non-null object\n",
      "Link               211 non-null object\n",
      "Rating             189 non-null float64\n",
      "Job_Description    211 non-null object\n",
      "Size               207 non-null object\n",
      "Founded            207 non-null object\n",
      "Company_Type       207 non-null object\n",
      "Industry           207 non-null object\n",
      "Revenue            207 non-null object\n",
      "CEO                190 non-null object\n",
      "Recommend          190 non-null float64\n",
      "Approve            190 non-null float64\n",
      "dtypes: float64(3), object(10)\n",
      "memory usage: 21.5+ KB\n"
     ]
    }
   ],
   "source": [
    "df.info()"
   ]
  },
  {
   "cell_type": "markdown",
   "metadata": {},
   "source": [
    "# Data Preprocessing\n",
    "\n",
    "## Exclude the following rows:\n",
    "* Rows of comapny that is 'RegionUP' as they have been flagged as a scam company\n",
    "* Drop rows with NA columns since insignificnat, will make it easier for machine learning\n",
    "* Drop rows without CEO approval ratings since very small amount of them do not have\n",
    "\n",
    "## Basic cleaning of Job_Description column:\n",
    "* Strip leading and trailing whitespaces\n",
    "* Strip '\\n' from the job column description and other html tags\n",
    "* Replace double space with single space\n",
    "\n",
    "## Improve readability of revenue column\n",
    "* Remove unecessary parts of text\n",
    "* Impute values of 'Unknown / Not Applicable' using employee size\n",
    "* Preserve ordinality by mapping\n",
    "\n",
    "## Impute Size column\n",
    "* Impute using revenue column"
   ]
  },
  {
   "cell_type": "code",
   "execution_count": 8,
   "metadata": {
    "collapsed": false
   },
   "outputs": [],
   "source": [
    "# Exclude outlier RegionUP as it is a scam company\n",
    "df = df[df['Company'] != 'RegionUP']\n",
    "\n",
    "# Drop NA values\n",
    "df = df.dropna()\n",
    "\n",
    "# Drop those without Approval scores\n",
    "df = df[df['Approve'] != -1]"
   ]
  },
  {
   "cell_type": "code",
   "execution_count": 33,
   "metadata": {
    "collapsed": false
   },
   "outputs": [],
   "source": [
    "# Cleanse job description column\n",
    "def jd_cleanse(col):\n",
    "    \n",
    "    col = col.apply(lambda x: x.strip())\n",
    "    col = col.apply(lambda x: x.replace('\\n', ' '))\n",
    "    col = col.apply(lambda x: x.replace('  ', ' '))\n",
    "    \n",
    "    return col\n",
    "\n",
    "# Cleanse the revenue column\n",
    "\n",
    "def rev_cleanse(col):\n",
    "    \n",
    "    col = col.apply(lambda x: x.replace('per year', ''))\n",
    "    col = col.apply(lambda x: x.replace('(USD)', ''))\n",
    "    col = col.apply(lambda x: x.strip())\n",
    "    \n",
    "    return col\n",
    "    "
   ]
  },
  {
   "cell_type": "markdown",
   "metadata": {},
   "source": [
    "### Job_Description Column"
   ]
  },
  {
   "cell_type": "code",
   "execution_count": 27,
   "metadata": {
    "collapsed": false
   },
   "outputs": [],
   "source": [
    "df['Job_Description'] = jd_cleanse(df['Job_Description'])"
   ]
  },
  {
   "cell_type": "code",
   "execution_count": 36,
   "metadata": {
    "collapsed": false
   },
   "outputs": [
    {
     "data": {
      "text/plain": [
       "0    J.P. Morgans Corporate & Investment Bank is a ...\n",
       "1    Environment Your environment SG CIB is the Cor...\n",
       "2    Dynamics of the Role The incumbent is expected...\n",
       "3    Position Description Design data mining and ma...\n",
       "4    Environment SG CIB is the Corporate and Invest...\n",
       "Name: Job_Description, dtype: object"
      ]
     },
     "execution_count": 36,
     "metadata": {},
     "output_type": "execute_result"
    }
   ],
   "source": [
    "df['Job_Description'].head()"
   ]
  },
  {
   "cell_type": "markdown",
   "metadata": {},
   "source": [
    "### Revenue Column"
   ]
  },
  {
   "cell_type": "code",
   "execution_count": 37,
   "metadata": {
    "collapsed": false
   },
   "outputs": [],
   "source": [
    "df['Revenue'] = rev_cleanse(df['Revenue'])"
   ]
  },
  {
   "cell_type": "markdown",
   "metadata": {},
   "source": [
    "How many are Unknown / Not Applicable ?"
   ]
  },
  {
   "cell_type": "code",
   "execution_count": 40,
   "metadata": {
    "collapsed": false,
    "scrolled": false
   },
   "outputs": [
    {
     "data": {
      "text/plain": [
       "$10+ billion                  57\n",
       "Unknown / Non-Applicable      21\n",
       "$5 to $10 billion             18\n",
       "$1 to $2 billion               8\n",
       "$2 to $5 billion               8\n",
       "$50 to $100 million            7\n",
       "$100 to $500 million           7\n",
       "$10 to $25 million             4\n",
       "$500 million to $1 billion     4\n",
       "$1 to $5 million               2\n",
       "Less than $1 million           2\n",
       "$25 to $50 million             2\n",
       "$5 to $10 million              1\n",
       "Name: Revenue, dtype: int64"
      ]
     },
     "execution_count": 40,
     "metadata": {},
     "output_type": "execute_result"
    }
   ],
   "source": [
    "df['Revenue'].value_counts()"
   ]
  },
  {
   "cell_type": "markdown",
   "metadata": {},
   "source": [
    "who are the unknown Revenue companies ?"
   ]
  },
  {
   "cell_type": "code",
   "execution_count": 62,
   "metadata": {
    "collapsed": false,
    "scrolled": true
   },
   "outputs": [
    {
     "data": {
      "text/html": [
       "<div>\n",
       "<style scoped>\n",
       "    .dataframe tbody tr th:only-of-type {\n",
       "        vertical-align: middle;\n",
       "    }\n",
       "\n",
       "    .dataframe tbody tr th {\n",
       "        vertical-align: top;\n",
       "    }\n",
       "\n",
       "    .dataframe thead th {\n",
       "        text-align: right;\n",
       "    }\n",
       "</style>\n",
       "<table border=\"1\" class=\"dataframe\">\n",
       "  <thead>\n",
       "    <tr style=\"text-align: right;\">\n",
       "      <th></th>\n",
       "      <th>Company</th>\n",
       "      <th>Size</th>\n",
       "    </tr>\n",
       "  </thead>\n",
       "  <tbody>\n",
       "    <tr>\n",
       "      <th>12</th>\n",
       "      <td>Bloomberg</td>\n",
       "      <td>10000+ employees</td>\n",
       "    </tr>\n",
       "    <tr>\n",
       "      <th>14</th>\n",
       "      <td>Compare Asia Group</td>\n",
       "      <td>51 to 200 employees</td>\n",
       "    </tr>\n",
       "    <tr>\n",
       "      <th>15</th>\n",
       "      <td>Bloomberg</td>\n",
       "      <td>10000+ employees</td>\n",
       "    </tr>\n",
       "    <tr>\n",
       "      <th>20</th>\n",
       "      <td>Bloomberg</td>\n",
       "      <td>10000+ employees</td>\n",
       "    </tr>\n",
       "    <tr>\n",
       "      <th>24</th>\n",
       "      <td>DataRobot</td>\n",
       "      <td>51 to 200 employees</td>\n",
       "    </tr>\n",
       "    <tr>\n",
       "      <th>25</th>\n",
       "      <td>CompareAsiaGroup</td>\n",
       "      <td>51 to 200 employees</td>\n",
       "    </tr>\n",
       "    <tr>\n",
       "      <th>29</th>\n",
       "      <td>Lynk</td>\n",
       "      <td>51 to 200 employees</td>\n",
       "    </tr>\n",
       "    <tr>\n",
       "      <th>34</th>\n",
       "      <td>Bloomberg</td>\n",
       "      <td>10000+ employees</td>\n",
       "    </tr>\n",
       "    <tr>\n",
       "      <th>42</th>\n",
       "      <td>Lynk</td>\n",
       "      <td>51 to 200 employees</td>\n",
       "    </tr>\n",
       "    <tr>\n",
       "      <th>48</th>\n",
       "      <td>Compare Asia Group</td>\n",
       "      <td>51 to 200 employees</td>\n",
       "    </tr>\n",
       "    <tr>\n",
       "      <th>52</th>\n",
       "      <td>Bloomberg</td>\n",
       "      <td>10000+ employees</td>\n",
       "    </tr>\n",
       "    <tr>\n",
       "      <th>55</th>\n",
       "      <td>Bloomberg</td>\n",
       "      <td>10000+ employees</td>\n",
       "    </tr>\n",
       "    <tr>\n",
       "      <th>56</th>\n",
       "      <td>Lynk</td>\n",
       "      <td>51 to 200 employees</td>\n",
       "    </tr>\n",
       "    <tr>\n",
       "      <th>60</th>\n",
       "      <td>Axalta</td>\n",
       "      <td>10000+ employees</td>\n",
       "    </tr>\n",
       "    <tr>\n",
       "      <th>63</th>\n",
       "      <td>Fidelity International</td>\n",
       "      <td>5001 to 10000 employees</td>\n",
       "    </tr>\n",
       "    <tr>\n",
       "      <th>65</th>\n",
       "      <td>Tink labs</td>\n",
       "      <td>201 to 500 employees</td>\n",
       "    </tr>\n",
       "    <tr>\n",
       "      <th>138</th>\n",
       "      <td>Hamlyn Williams</td>\n",
       "      <td>51 to 200 employees</td>\n",
       "    </tr>\n",
       "    <tr>\n",
       "      <th>148</th>\n",
       "      <td>DST Global Solutions</td>\n",
       "      <td>1001 to 5000 employees</td>\n",
       "    </tr>\n",
       "    <tr>\n",
       "      <th>164</th>\n",
       "      <td>Hong Kong Airlines</td>\n",
       "      <td>501 to 1000 employees</td>\n",
       "    </tr>\n",
       "    <tr>\n",
       "      <th>166</th>\n",
       "      <td>Compare Asia Group</td>\n",
       "      <td>51 to 200 employees</td>\n",
       "    </tr>\n",
       "    <tr>\n",
       "      <th>170</th>\n",
       "      <td>CompareAsiaGroup</td>\n",
       "      <td>51 to 200 employees</td>\n",
       "    </tr>\n",
       "  </tbody>\n",
       "</table>\n",
       "</div>"
      ],
      "text/plain": [
       "                    Company                     Size\n",
       "12                Bloomberg         10000+ employees\n",
       "14       Compare Asia Group      51 to 200 employees\n",
       "15                Bloomberg         10000+ employees\n",
       "20                Bloomberg         10000+ employees\n",
       "24                DataRobot      51 to 200 employees\n",
       "25         CompareAsiaGroup      51 to 200 employees\n",
       "29                     Lynk      51 to 200 employees\n",
       "34                Bloomberg         10000+ employees\n",
       "42                     Lynk      51 to 200 employees\n",
       "48       Compare Asia Group      51 to 200 employees\n",
       "52                Bloomberg         10000+ employees\n",
       "55                Bloomberg         10000+ employees\n",
       "56                     Lynk      51 to 200 employees\n",
       "60                   Axalta         10000+ employees\n",
       "63   Fidelity International  5001 to 10000 employees\n",
       "65                Tink labs     201 to 500 employees\n",
       "138         Hamlyn Williams      51 to 200 employees\n",
       "148    DST Global Solutions   1001 to 5000 employees\n",
       "164      Hong Kong Airlines    501 to 1000 employees\n",
       "166      Compare Asia Group      51 to 200 employees\n",
       "170        CompareAsiaGroup      51 to 200 employees"
      ]
     },
     "execution_count": 62,
     "metadata": {},
     "output_type": "execute_result"
    }
   ],
   "source": [
    "df[df['Revenue'] == 'Unknown / Non-Applicable'][['Company', 'Size']]"
   ]
  },
  {
   "cell_type": "markdown",
   "metadata": {},
   "source": [
    "## Imputing Revenue and Size by most common occrence\n",
    "\n",
    "* It is possible to impute missing revenu and size based on the following pivot table\n",
    "    * As most unknown size has a revenue of   \n"
   ]
  },
  {
   "cell_type": "markdown",
   "metadata": {},
   "source": [
    "### Pivot Table of Revenue mode occurence for each Size"
   ]
  },
  {
   "cell_type": "code",
   "execution_count": 63,
   "metadata": {
    "collapsed": false,
    "scrolled": true
   },
   "outputs": [],
   "source": [
    "mapping = pd.pivot_table(df[['Size', 'Revenue']],index=['Size'], columns=['Revenue'], aggfunc=np.count_nonzero).idxmax(axis =1)"
   ]
  },
  {
   "cell_type": "code",
   "execution_count": 65,
   "metadata": {
    "collapsed": false
   },
   "outputs": [
    {
     "data": {
      "text/plain": [
       "{'1 to 50 employees': '$10 to $25 million',\n",
       " '10000+ employees': '$10+ billion',\n",
       " '1001 to 5000 employees': '$1 to $2 billion',\n",
       " '201 to 500 employees': '$10+ billion',\n",
       " '5001 to 10000 employees': '$5 to $10 billion',\n",
       " '501 to 1000 employees': '$100 to $500 million',\n",
       " '51 to 200 employees': 'Unknown / Non-Applicable',\n",
       " 'Unknown': '$5 to $10 million'}"
      ]
     },
     "execution_count": 65,
     "metadata": {},
     "output_type": "execute_result"
    }
   ],
   "source": [
    "dict(mapping)"
   ]
  },
  {
   "cell_type": "code",
   "execution_count": null,
   "metadata": {
    "collapsed": true
   },
   "outputs": [],
   "source": []
  }
 ],
 "metadata": {
  "kernelspec": {
   "display_name": "Python 3",
   "language": "python",
   "name": "python3"
  },
  "language_info": {
   "codemirror_mode": {
    "name": "ipython",
    "version": 3
   },
   "file_extension": ".py",
   "mimetype": "text/x-python",
   "name": "python",
   "nbconvert_exporter": "python",
   "pygments_lexer": "ipython3",
   "version": "3.6.0"
  }
 },
 "nbformat": 4,
 "nbformat_minor": 2
}
