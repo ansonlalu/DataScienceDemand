{
 "cells": [
  {
   "cell_type": "markdown",
   "metadata": {},
   "source": [
    "![image](https://github.com/jasonchanhku/DataScienceDemand/blob/master/images/glassdoor.png)\n",
    "\n",
    "# Data Science Demand in Hong Kong\n",
    "### by Jason Chan Jin An\n",
    "\n",
    "This project aims to gauge the data science job demands in Hong Kong\n",
    "in the past 30 days rolling based on job posts from Glassdoor. Glassdoor was \n",
    "the preferred data source because its wide array of available information:\n",
    "\n",
    "* Job Title\n",
    "* Company Name\n",
    "* Link\n",
    "* Company Rating\n",
    "* Job Description\n",
    "* Company Size\n",
    "* Year Founded\n",
    "* Company Type\n",
    "* Industry\n",
    "* Company Revenue\n",
    "* CEO (sentiment)\n",
    "* Recommend Percentage\n",
    "* Approval Percentage\n",
    "\n",
    "# Questions to be Answered\n",
    "\n",
    "Exploratory Data Analysis (EDA) is performed in this notebook from a statistical and data standpoint and seeks to answer the following questions: \n",
    "* Who are hiring data scientists in Hong Kong ?\n",
    "    * Big / small companies ?\n",
    "    * What kind of industries ?\n",
    "    * Good company feedback and approval ?\n",
    "* Do company ratings differ from company types / industry / etc ?\n",
    "* Given my preference of company type, which jobs suits me most ?\n",
    "\n",
    "## Dataset\n",
    "\n",
    "The dataset was obtained by building a python web scraper using `selenium` and the script is saved as `scraper.py` in the repository.\n",
    "\n",
    "***"
   ]
  },
  {
   "cell_type": "markdown",
   "metadata": {},
   "source": [
    "# Data Prep and Libraries"
   ]
  },
  {
   "cell_type": "code",
   "execution_count": 1,
   "metadata": {
    "collapsed": true
   },
   "outputs": [],
   "source": [
    "# Libraries used"
   ]
  },
  {
   "cell_type": "code",
   "execution_count": 2,
   "metadata": {
    "collapsed": true
   },
   "outputs": [],
   "source": [
    "# Data prep"
   ]
  },
  {
   "cell_type": "code",
   "execution_count": null,
   "metadata": {
    "collapsed": true
   },
   "outputs": [],
   "source": []
  }
 ],
 "metadata": {
  "kernelspec": {
   "display_name": "Python 3",
   "language": "python",
   "name": "python3"
  },
  "language_info": {
   "codemirror_mode": {
    "name": "ipython",
    "version": 3
   },
   "file_extension": ".py",
   "mimetype": "text/x-python",
   "name": "python",
   "nbconvert_exporter": "python",
   "pygments_lexer": "ipython3",
   "version": "3.6.0"
  }
 },
 "nbformat": 4,
 "nbformat_minor": 2
}
